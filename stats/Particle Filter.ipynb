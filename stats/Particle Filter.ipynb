{
 "cells": [
  {
   "cell_type": "code",
   "execution_count": 1,
   "metadata": {
    "collapsed": true
   },
   "outputs": [],
   "source": [
    "import numpy as np\n",
    "import matplotlib.pyplot as plt\n",
    "import sys, rospy, rosbag, glob, re, math\n",
    "\n",
    "import scipy\n",
    "import scipy.stats\n",
    "from scipy.stats import pearsonr\n",
    "from scipy.optimize import minimize\n",
    "\n",
    "from smap.msg import smapStats\n",
    "\n",
    "from IPython.display import HTML, display\n",
    "\n",
    "from matplotlib.path import Path\n",
    "import matplotlib.patches as patches\n",
    "from matplotlib import cm\n",
    "from numpy import linspace\n",
    "from matplotlib.colors import LogNorm"
   ]
  },
  {
   "cell_type": "code",
   "execution_count": 178,
   "metadata": {
    "collapsed": false
   },
   "outputs": [
    {
     "name": "stdout",
     "output_type": "stream",
     "text": [
      "Optimization terminated successfully.\n",
      "         Current function value: 0.879867\n",
      "         Iterations: 7\n",
      "         Function evaluations: 3591\n",
      "  status: 0\n",
      " success: True\n",
      "   direc: array([[  1.00000000e+00,   0.00000000e+00,   0.00000000e+00,\n",
      "          0.00000000e+00,   0.00000000e+00,   0.00000000e+00,\n",
      "          0.00000000e+00,   0.00000000e+00,   0.00000000e+00,\n",
      "          0.00000000e+00],\n",
      "       [  0.00000000e+00,   1.00000000e+00,   0.00000000e+00,\n",
      "          0.00000000e+00,   0.00000000e+00,   0.00000000e+00,\n",
      "          0.00000000e+00,   0.00000000e+00,   0.00000000e+00,\n",
      "          0.00000000e+00],\n",
      "       [  0.00000000e+00,   0.00000000e+00,   1.00000000e+00,\n",
      "          0.00000000e+00,   0.00000000e+00,   0.00000000e+00,\n",
      "          0.00000000e+00,   0.00000000e+00,   0.00000000e+00,\n",
      "          0.00000000e+00],\n",
      "       [  0.00000000e+00,   0.00000000e+00,   0.00000000e+00,\n",
      "          1.00000000e+00,   0.00000000e+00,   0.00000000e+00,\n",
      "          0.00000000e+00,   0.00000000e+00,   0.00000000e+00,\n",
      "          0.00000000e+00],\n",
      "       [  0.00000000e+00,   0.00000000e+00,   0.00000000e+00,\n",
      "          0.00000000e+00,   1.00000000e+00,   0.00000000e+00,\n",
      "          0.00000000e+00,   0.00000000e+00,   0.00000000e+00,\n",
      "          0.00000000e+00],\n",
      "       [  0.00000000e+00,   0.00000000e+00,   0.00000000e+00,\n",
      "          0.00000000e+00,   0.00000000e+00,   0.00000000e+00,\n",
      "          0.00000000e+00,   0.00000000e+00,   0.00000000e+00,\n",
      "          1.00000000e+00],\n",
      "       [  0.00000000e+00,   0.00000000e+00,   0.00000000e+00,\n",
      "          0.00000000e+00,   0.00000000e+00,   0.00000000e+00,\n",
      "          1.00000000e+00,   0.00000000e+00,   0.00000000e+00,\n",
      "          0.00000000e+00],\n",
      "       [  0.00000000e+00,   0.00000000e+00,   0.00000000e+00,\n",
      "          0.00000000e+00,   0.00000000e+00,   0.00000000e+00,\n",
      "          0.00000000e+00,   1.00000000e+00,   0.00000000e+00,\n",
      "          0.00000000e+00],\n",
      "       [  1.80117972e-11,   0.00000000e+00,   0.00000000e+00,\n",
      "          0.00000000e+00,   2.57835316e-03,  -6.80937222e-02,\n",
      "          2.65426184e+00,   2.65426184e+00,  -1.01383789e-11,\n",
      "          1.01383780e+00],\n",
      "       [  1.65655406e-11,   0.00000000e+00,   0.00000000e+00,\n",
      "          0.00000000e+00,   4.44280814e-03,  -6.26260800e-02,\n",
      "          4.84895245e+00,   4.84895245e+00,  -6.42831953e-02,\n",
      "         -2.96349856e+00]])\n",
      "    nfev: 3591\n",
      "     fun: 0.87986667654966011\n",
      "       x: array([  1.15903036e-01,   3.26582411e+00,   1.23000000e-05,\n",
      "         0.00000000e+00,   1.70017400e-02,   6.53035930e-01,\n",
      "         2.58294523e+01,   2.58294523e+01,  -1.81834298e-01,\n",
      "         5.03392148e-02])\n",
      " message: 'Optimization terminated successfully.'\n",
      "     nit: 7\n",
      "Sum:  1.0\n",
      "Mean: 0.423208591067\n",
      "Std:  0.355711064248\n",
      "[ 0.03977463  0.0370041   0.03439136  0.03193058  0.02961601  0.02744204\n",
      "  0.02540316  0.02349397  0.0217092   0.02004365  0.01849227  0.01705009\n",
      "  0.01571228  0.01447408  0.01333088  0.01227813  0.01131144  0.01042648\n",
      "  0.00961906  0.00888507  0.00822053  0.00762154  0.00708433  0.00660522\n",
      "  0.00618063  0.0058071   0.00548125  0.00519982  0.00495965  0.00475768\n",
      "  0.00459094  0.00445658  0.00435184  0.00427407  0.00422071  0.00418929\n",
      "  0.00417747  0.00418299  0.00420368  0.0042375   0.00428248  0.00433677\n",
      "  0.00439861  0.00446635  0.00453843  0.00461342  0.00468997  0.00476686\n",
      "  0.00484299  0.00491739  0.00498926  0.00505816  0.0051245   0.00518898\n",
      "  0.0052524   0.00531558  0.00537938  0.00544464  0.00551222  0.00558294\n",
      "  0.00565762  0.00573704  0.00582197  0.00591311  0.00601115  0.00611674\n",
      "  0.00623047  0.00635289  0.0064845   0.00662574  0.00677701  0.00693865\n",
      "  0.00711093  0.00729407  0.00748823  0.0076935   0.0079099   0.00813741\n",
      "  0.0083759   0.00862522  0.0088851   0.00915523  0.00943523  0.00972462\n",
      "  0.01002286  0.01032935  0.01064337  0.01096416  0.01129087  0.01162257\n",
      "  0.01195823  0.01229676  0.01263698  0.01297763  0.01331735  0.01365472\n",
      "  0.01398821  0.0143162   0.01463701  0.01494884]\n"
     ]
    },
    {
     "data": {
      "image/png": "[encoded data removed]",
      "text/plain": [
       "<matplotlib.figure.Figure at 0x7f1cc882b710>"
      ]
     },
     "metadata": {},
     "output_type": "display_data"
    }
   ],
   "source": [
    "%matplotlib inline\n",
    "fig, ((ax1, ax2)) = plt.subplots(2, 1, figsize=(10, 4))\n",
    "\n",
    "num_particles = 100\n",
    "prior_mean = 0.6\n",
    "prior_var = 0.25\n",
    "\n",
    "particle_supports = np.linspace(0, 1, num_particles, endpoint=True)\n",
    "\n",
    "n = num_particles\n",
    "coeff1 = (4.*n-2.-6.*(n-1)* prior_mean)/(n*n+n)\n",
    "coeff2 = -coeff1+2./n\n",
    "initial_belief = np.array(coeff2-(coeff2-coeff1)*particle_supports)\n",
    "\n",
    "params = [\n",
    "    0.1,\n",
    "    3.5,\n",
    "    0.0000123,\n",
    "    .0,\n",
    "    .0,\n",
    "    1,\n",
    "    0,\n",
    "    0,\n",
    "    0,\n",
    "    0\n",
    "]\n",
    "\n",
    "def generate_pdf(params):\n",
    "    belief = [b * min(params[0] * (100-x) + params[6] * x + params[7],\n",
    "                                 max(abs(params[0]) ** (params[1]) + params[9],\n",
    "                                     params[2] * abs(x-n/2) ** abs(params[1])\n",
    "                                     + (n-x) * params[3]\n",
    "                                     + x * params[4] + params[8]) * params[5])\n",
    "              for b, x in zip(initial_belief, list(range(n+1)))]\n",
    "    return np.array(belief)\n",
    "\n",
    "def particle_opt(params):\n",
    "#     print params\n",
    "\n",
    "    belief = generate_pdf(params)\n",
    "    mean = np.sum(belief * particle_supports)\n",
    "    return abs(1. - np.sum(belief)) \\\n",
    "            + 2 * abs(prior_mean - mean) \\\n",
    "            + 4 * abs(prior_var - (np.sum(belief * particle_supports**2) - mean**2)) \\\n",
    "            + 10 * len(belief[belief < 0])\n",
    "\n",
    "\n",
    "def direct_opt(belief):\n",
    "    mean = np.sum(belief * particle_supports)\n",
    "    #return abs(1. - np.sum(belief)) + 200 * abs(0.5 - mean) + 4 * abs(0.25 - (np.sum(belief * particle_supports**2) - mean**2))\n",
    "    return abs(1. - np.sum(belief)) \\\n",
    "            + 2 * abs(0.5 - mean) \\\n",
    "            + 4 * abs(0.25 - (np.sum(belief * particle_supports**2) - mean**2)) \\\n",
    "            + 10 * len(belief[belief < 0])\n",
    "\n",
    "\n",
    "pdf = generate_pdf(params)\n",
    "ax1.bar(list(range(n)), pdf * particle_supports)\n",
    "\n",
    "mean = np.sum(pdf * particle_supports)\n",
    "# print \"Sum: \", np.sum(pdf)\n",
    "# print \"Mean:\", mean\n",
    "# print \"Std: \", np.sqrt(np.sum(pdf * particle_supports**2) - mean**2)\n",
    "\n",
    "#res = minimize(particle_opt, params, method='COBYLA', tol=0.01, options={'tol': 1e-1, 'disp': True, 'maxiter': 1000})\n",
    "res = minimize(particle_opt, params, method='Powell', options={'xtol': 1e-35, 'ftol': 1e-35, 'disp': True, 'maxiter': 20000, 'maxfev': 20000})\n",
    "#res = minimize(direct_opt, np.random.rand(n)/10, method='Nelder-Mead', options={'xtol': 1e-5, 'disp': True, 'maxiter': 100})\n",
    "print res\n",
    "\n",
    "minimizer_kwargs = {\"method\": \"Powell\"}\n",
    "res = scipy.optimize.basinhopping(particle_opt, params, minimizer_kwargs=minimizer_kwargs, niter=100)\n",
    "\n",
    "# minimizer_kwargs = {\"method\": \"Powell\"}\n",
    "# ret = scipy.optimize.basinhopping(direct_opt, generate_pdf(params), minimizer_kwargs=minimizer_kwargs, niter=100)\n",
    "# print ret\n",
    "\n",
    "pdf = generate_pdf(res.x)\n",
    "mean = np.sum(pdf * particle_supports)\n",
    "print \"Sum: \", np.sum(pdf)\n",
    "print \"Mean:\", mean\n",
    "print \"Std: \", np.sqrt(np.sum(pdf * particle_supports**2) - mean**2)\n",
    "ax2.bar(list(range(n)), pdf * particle_supports)\n",
    "print pdf\n",
    "#ax2.bar(list(range(n)), ret.x * particle_supports)"
   ]
  },
  {
   "cell_type": "code",
   "execution_count": 173,
   "metadata": {
    "collapsed": false
   },
   "outputs": [
    {
     "data": {
      "text/plain": [
       "<matplotlib.text.Text at 0x7f1cc72a10d0>"
      ]
     },
     "execution_count": 173,
     "metadata": {},
     "output_type": "execute_result"
    },
    {
     "data": {
      "image/png": "[encoded data removed]",
      "text/plain": [
       "<matplotlib.figure.Figure at 0x7f1cc8079390>"
      ]
     },
     "metadata": {},
     "output_type": "display_data"
    }
   ],
   "source": [
    "%matplotlib inline\n",
    "num_particles = 2000\n",
    "\n",
    "\n",
    "def part_std(n):\n",
    "    particle_supports = np.linspace(0, 1, n, endpoint=True)\n",
    "    coeff1 = (4.*n-2.-6.*(n-1)* prior_mean)/(n*n+n)\n",
    "    coeff2 = -coeff1+2./n\n",
    "    initial_belief = np.array(coeff2-(coeff2-coeff1)*particle_supports)\n",
    "    return np.sqrt(np.sum(initial_belief * particle_supports**2) - mean**2)\n",
    "\n",
    "x = list(range(2, 1000))\n",
    "plt.plot(x, [part_std(n) for n in x])\n",
    "plt.xlabel(\"Number of Particles\")\n",
    "plt.ylabel(\"Std\")"
   ]
  }
 ],
 "metadata": {
  "kernelspec": {
   "display_name": "Python 2",
   "language": "python",
   "name": "python2"
  },
  "language_info": {
   "codemirror_mode": {
    "name": "ipython",
    "version": 2
   },
   "file_extension": ".py",
   "mimetype": "text/x-python",
   "name": "python",
   "nbconvert_exporter": "python",
   "pygments_lexer": "ipython2",
   "version": "2.7.6"
  }
 },
 "nbformat": 4,
 "nbformat_minor": 2
}
