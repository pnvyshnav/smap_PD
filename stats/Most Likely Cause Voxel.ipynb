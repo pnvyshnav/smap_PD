{
 "cells": [
  {
   "cell_type": "markdown",
   "metadata": {},
   "source": [
    "# Most Likely Cause Voxel\n",
    "Objective: Find $\\displaystyle\\arg\\max_c \\hat{m}^c \\prod_{l=1}^{c^l-1} \\left(1-\\hat{m}^{g(l,xv)}\\right)$"
   ]
  },
  {
   "cell_type": "code",
   "execution_count": 5,
   "metadata": {
    "collapsed": true
   },
   "outputs": [],
   "source": [
    "import numpy as np\n",
    "import matplotlib.pyplot as plt\n",
    "from matplotlib.path import Path\n",
    "import matplotlib.patches as patches\n",
    "from scipy import interpolate\n",
    "import os, csv, re"
   ]
  },
  {
   "cell_type": "code",
   "execution_count": 98,
   "metadata": {
    "collapsed": false
   },
   "outputs": [
    {
     "name": "stdout",
     "output_type": "stream",
     "text": [
      "SCM Infinity: 0.343\n",
      "SCM: [0.3, 0.21, 0.14699999999999996, 0.34299999999999997]\n",
      "Max: Infinity\n"
     ]
    },
    {
     "data": {
      "image/png": "[encoded data removed]",
      "text/plain": [
       "<matplotlib.figure.Figure at 0x7f970a73b1d0>"
      ]
     },
     "metadata": {},
     "output_type": "display_data"
    }
   ],
   "source": [
    "%matplotlib inline\n",
    "\n",
    "m_ray = [0.1, 0.1, 0.1, 0.2, 0.4, 0.7, 0.9]\n",
    "#m_ray = list(reversed(m_ray))\n",
    "m_ray = [0.3] * 3\n",
    "voxel_size = 0.1\n",
    "\n",
    "fig, ax = plt.subplots(figsize=(len(m_ray), 2))\n",
    "ax.set_xlim([0, len(m_ray) * voxel_size])\n",
    "#ax.set_ylim([0, voxel_size])\n",
    "\n",
    "def verts(x):\n",
    "    return [\n",
    "        (x, 0), # left, bottom\n",
    "        (x, 10), # left, top\n",
    "        (x + voxel_size, 10), # right, top\n",
    "        (x + voxel_size, 0), # right, bottom\n",
    "        (0., 0.), # ignored\n",
    "    ]\n",
    "\n",
    "codes = [Path.MOVETO,\n",
    "         Path.LINETO,\n",
    "         Path.LINETO,\n",
    "         Path.LINETO,\n",
    "         Path.CLOSEPOLY,\n",
    "         ]\n",
    "   \n",
    "\n",
    "scm = []\n",
    "reachability = 1.\n",
    "for i, mi in enumerate(m_ray):\n",
    "    ax.add_patch(patches.PathPatch(Path(verts(i * voxel_size), codes), facecolor=str(1-mi), lw=0))\n",
    "    \n",
    "    scm.append(mi * reachability)\n",
    "    reachability *= 1-mi\n",
    "\n",
    "scm_inf = 1 - sum(scm)\n",
    "print \"SCM Infinity:\", scm_inf\n",
    "scm.append(scm_inf)\n",
    "\n",
    "print \"SCM:\", scm\n",
    "    \n",
    "max_scm = 0\n",
    "for i, s in enumerate(scm):\n",
    "    if s > scm[max_scm]:\n",
    "        max_scm = i\n",
    "\n",
    "print \"Max:\", (\"Voxel %i\" % max_scm if max_scm < len(m_ray) else \"Infinity\")\n",
    "ax.add_patch(patches.PathPatch(Path(verts(max_scm * voxel_size), codes), facecolor=\"orange\", lw=0))\n",
    "\n",
    "ax.plot(scm, c=\"red\")\n",
    "ax.set_xticks(np.arange(0, len(m_ray) * voxel_size, voxel_size))\n",
    "ax.set_ylim([0, max(scm)*1.1])\n",
    "ax.grid()"
   ]
  }
 ],
 "metadata": {
  "kernelspec": {
   "display_name": "Python 2",
   "language": "python",
   "name": "python2"
  },
  "language_info": {
   "codemirror_mode": {
    "name": "ipython",
    "version": 2
   },
   "file_extension": ".py",
   "mimetype": "text/x-python",
   "name": "python",
   "nbconvert_exporter": "python",
   "pygments_lexer": "ipython2",
   "version": "2.7.6"
  }
 },
 "nbformat": 4,
 "nbformat_minor": 2
}
