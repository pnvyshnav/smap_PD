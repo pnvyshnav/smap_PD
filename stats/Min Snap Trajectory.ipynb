{
 "cells": [
  {
   "cell_type": "markdown",
   "metadata": {},
   "source": [
    "# Minimum Snap Trajectory\n",
    "## Model\n",
    "* control input $\\mathbf u = [u_1, u_2, u_3, u_4]^T$\n",
    "\t* $u_1$ net body force\n",
    "\t* $u_2, u_3, u_4$ body moments according to rotor speeds\n",
    "* state $\\mathbf x = [x, y, z, \\phi, \\theta, \\psi, \\dot{x}, \\dot{y}, \\dot{z}, p, q, r]^T$\n",
    "\n",
    "## Differential Flatness\n",
    "* flat outputs $\\sigma = [x, y, z , \\psi]^T$\n",
    "\t* coordinates of COM $\\mathbf r = [x, y, z]^T$\n",
    "\t* yaw angle $\\psi$\n",
    "\n",
    "\n",
    "## Trajectory Optimization\n",
    "Quadratic Program (QP):\n",
    "$$\n",
    "\\min\\int_{t_o}^{t_m}\n",
    "\\mu_r \\left|\\left|\\frac{d^{k_r}\\mathbf{r}_{\\text{T}}}{dt^{k_r}}\\right|\\right| +\n",
    "\\mu_\\psi \\left|\\left|\\frac{d^{k_\\psi}\\psi_{\\text{T}}}{dt^{k_\\psi}}\\right|\\right|\n",
    "dt\n",
    "$$\n",
    "s.t.\n",
    "$$\n",
    "\\begin{aligned}\n",
    "\\sigma_T(t_i)&=\\sigma_i ,&\\qquad j = 0, \\dots, m \\\\\n",
    "\\left.\\frac{d^Px_T}{dt^P}\\right|_{t=t_j} &= 0 \\text{ or free,} &\\qquad  j = 0, \\dots, m; p=1, \\dots, k_r \\\\\n",
    "\\left.\\frac{d^Py_T}{dt^P}\\right|_{t=t_j} &= 0 \\text{ or free,} &\\qquad  j = 0, \\dots, m; p=1, \\dots, k_r \\\\\n",
    "\\left.\\frac{d^Pz_T}{dt^P}\\right|_{t=t_j} &= 0 \\text{ or free,} &\\qquad  j = 0, \\dots, m; p=1, \\dots, k_r \\\\\n",
    "\\left.\\frac{d^P\\psi_T}{dt^P}\\right|_{t=t_j} &= 0 \\text{ or free,} &\\qquad  j = 0, \\dots, m; p=1, \\dots, k_\\psi\n",
    "\\end{aligned}\n",
    "$$"
   ]
  },
  {
   "cell_type": "code",
   "execution_count": 2,
   "metadata": {},
   "outputs": [],
   "source": [
    "import numpy as np\n",
    "import matplotlib.pyplot as plt\n",
    "import sys, rospy, rosbag, glob, re, math\n",
    "\n",
    "import scipy\n",
    "import scipy.stats\n",
    "from scipy.stats import pearsonr\n",
    "\n",
    "from smap.msg import smapStats\n",
    "\n",
    "from IPython.display import HTML, display\n",
    "\n",
    "from matplotlib.path import Path\n",
    "import matplotlib.patches as patches\n",
    "from matplotlib import cm\n",
    "from numpy import linspace\n",
    "from matplotlib.colors import LogNorm\n",
    "from decimal import *\n",
    "\n",
    "def deg2rad(deg):\n",
    "    return deg / 180. * np.pi\n",
    "\n",
    "keyframes = [\n",
    "    [0, 0, deg2rad(0)],\n",
    "    [2, 0, deg2rad(90)],\n",
    "    [2, 6, deg2rad(180)],\n",
    "    [0, 6, deg2rad(0)]\n",
    "]\n",
    "times = [0, 0.3, 0.7, 1.0]"
   ]
  },
  {
   "cell_type": "markdown",
   "metadata": {},
   "source": [
    "## Nondimensionalization\n",
    "Quantities $x_t, y_T, z_T, \\psi_T$ are decoupled in cost function and constraints of the QP.\n",
    "Hence, they can be separated into 4 optimization problems. Considering a general form for a nondimensional variable $\\tilde{w}(\\tau)$ where $\\tau$ represents nondimensionalized time:\n",
    "$$\n",
    "\\begin{aligned}\n",
    "\\min &\\int_0^1 \\frac{d^k\\tilde{w}(\\tau)^2}{d\\tau^k}d\\tau&\\\\\n",
    "\\text{s.t.} &\\qquad \\tilde{w}(\\tau_i) = \\tilde{w}_i, &\\qquad i=0,\\dots,m\\\\\n",
    "&\\qquad \\left.\\frac{d^P\\tilde{w}(\\tau)}{d\\tilde{w}^P}\\right|_{\\tau=\\tau_j}=0\\text{ or free}, &\\qquad t_j=0,\\dots,1; p=1,\\dots,k\n",
    "\\end{aligned}\n",
    "$$"
   ]
  },
  {
   "cell_type": "code",
   "execution_count": 3,
   "metadata": {},
   "outputs": [],
   "source": [
    "k = 3 # dimensions\n",
    "d = 5 # polynomial degree\n",
    "\n",
    "C = [\n",
    "    [0, 0, 1],\n",
    "    [1, 0, 0]\n",
    "]\n",
    "\n",
    "times = np.linspace(0, 1, 100)\n",
    "\n",
    "def polynomial(times, constraints, continuity=2, degree=4):\n",
    "    pass"
   ]
  },
  {
   "cell_type": "markdown",
   "metadata": {},
   "source": [
    "### Evaluation for a single polynomial\n",
    "$$\n",
    "\\begin{aligned}\n"
   ]
  }
 ],
 "metadata": {
  "kernelspec": {
   "display_name": "Python 2",
   "language": "python",
   "name": "python2"
  },
  "language_info": {
   "codemirror_mode": {
    "name": "ipython",
    "version": 2
   },
   "file_extension": ".py",
   "mimetype": "text/x-python",
   "name": "python",
   "nbconvert_exporter": "python",
   "pygments_lexer": "ipython2",
   "version": "2.7.6"
  }
 },
 "nbformat": 4,
 "nbformat_minor": 2
}
